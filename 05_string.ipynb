{
  "cells": [
    {
      "cell_type": "markdown",
      "metadata": {
        "id": "view-in-github",
        "colab_type": "text"
      },
      "source": [
        "<a href=\"https://colab.research.google.com/github/Kadyrzhanov/python-darslik/blob/main/05_string.ipynb\" target=\"_parent\"><img src=\"https://colab.research.google.com/assets/colab-badge.svg\" alt=\"Open In Colab\"/></a>"
      ]
    },
    {
      "cell_type": "markdown",
      "metadata": {
        "id": "QkkJNuis0Qdl"
      },
      "source": [
        "# 05-DARS. STRING (MATN)\n",
        "STRING ma'lumot turi va uning ustida amallar"
      ]
    },
    {
      "cell_type": "markdown",
      "metadata": {
        "id": "pMc42B0-0Qdn"
      },
      "source": [
        "\n",
        "#  STRING VA UNICODE"
      ]
    },
    {
      "cell_type": "markdown",
      "metadata": {
        "id": "4GoPlNCW0Qdo"
      },
      "source": [
        "**STRING** (matn) — bu harflar, raqamlar, belgilar ketma-ketligidir.**STRING** — Pythondagi eng mashxur ma'lumot turlaridan biri. Python dasturlash tilida string qo‘shtirnoq (\" \") yoki bir tirnoq (' ') orasida yoziladi."
      ]
    },
    {
      "cell_type": "code",
      "execution_count": null,
      "metadata": {
        "id": "-_2t7nor0Qdo"
      },
      "outputs": [],
      "source": [
        "shahar = \"Uzgen\"\n",
        "viloyat = 'Osh'"
      ]
    },
    {
      "cell_type": "markdown",
      "metadata": {
        "id": "2uBYOq4O0Qdp"
      },
      "source": [
        "Pythonda matnlar [Unicode](https://unicode-table.com/en/) jadvalidagi istalgan belgilaridan iborat bo'lishi mumkin (jumladan o'zbek, arab, hind, xitoy alifbosidagi harflar yoki turli emoji-smayliklar)."
      ]
    },
    {
      "cell_type": "code",
      "execution_count": 5,
      "metadata": {
        "scrolled": true,
        "id": "zKBvIAi70Qdq",
        "outputId": "84605b5a-6418-4a46-b24a-fb41fb0dd6fa",
        "colab": {
          "base_uri": "https://localhost:8080/"
        }
      },
      "outputs": [
        {
          "output_type": "stream",
          "name": "stdout",
          "text": [
            "Men 💻 bilan ishlashni o'rganmoqdaman \n"
          ]
        }
      ],
      "source": [
        "matn = \"Men 💻 bilan ishlashni o'rganmoqdaman \"\n",
        "print(matn)"
      ]
    },
    {
      "cell_type": "markdown",
      "metadata": {
        "id": "77vPM_AF0Qdr"
      },
      "source": [
        "![Unicode jadval](https://gblobscdn.gitbook.com/assets%2F-MGbkqs1tROquIT6oqUs%2F-MLjUEbNQbWqMBCY1uql%2F-MLjVgUODxYRloFHWptm%2Fimage.png?alt=media&token=6e6eaef4-4958-479f-9622-523110678e8c)"
      ]
    },
    {
      "cell_type": "markdown",
      "source": [
        "# Ko'p qatorli matn (string)"
      ],
      "metadata": {
        "id": "v5cmVKU0Qhkk"
      }
    },
    {
      "cell_type": "markdown",
      "source": [
        "O'zgaruvchiga ko'p qatorli matnni uchta qo'shtirnoq(\"\"\" \"\"\") yoki uchta birtirnoq (''' ''') orqali yuklashimiz mumkin"
      ],
      "metadata": {
        "id": "ybKeWmhHQ1u_"
      }
    },
    {
      "cell_type": "code",
      "source": [
        "a = \"\"\"Lorem ipsum dolor sit amet,\n",
        "consectetur adipiscing elit,\n",
        "sed do eiusmod tempor incididunt\n",
        "ut labore et dolore magna aliqua.\"\"\"\n",
        "print(a)"
      ],
      "metadata": {
        "colab": {
          "base_uri": "https://localhost:8080/"
        },
        "id": "JWVdeOCVRohH",
        "outputId": "1a23da8d-4197-4ede-9d18-748b90665875"
      },
      "execution_count": 9,
      "outputs": [
        {
          "output_type": "stream",
          "name": "stdout",
          "text": [
            "Lorem ipsum dolor sit amet,\n",
            "consectetur adipiscing elit,\n",
            "sed do eiusmod tempor incididunt\n",
            "ut labore et dolore magna aliqua.\n"
          ]
        }
      ]
    },
    {
      "cell_type": "markdown",
      "metadata": {
        "id": "DBpOXhkV0Qdr"
      },
      "source": [
        "# STRING USTIDA AMALLAR"
      ]
    },
    {
      "cell_type": "markdown",
      "metadata": {
        "id": "RRI8yejP0Qdr"
      },
      "source": [
        "## Matnlarni qo'shish operatori (+)  (**concatenation**)"
      ]
    },
    {
      "cell_type": "markdown",
      "metadata": {
        "id": "LbPm523Y0Qdr"
      },
      "source": [
        "Matnlarni qo'shish uchun + operatoridan foydalanmiz:"
      ]
    },
    {
      "cell_type": "code",
      "execution_count": null,
      "metadata": {
        "id": "S7LgKnrP0Qds",
        "outputId": "4123c031-bea2-4135-bb27-5b869ed557a3"
      },
      "outputs": [
        {
          "name": "stdout",
          "output_type": "stream",
          "text": [
            "Mening ismim Ahmad\n"
          ]
        }
      ],
      "source": [
        "ism = 'Ahmad'\n",
        "print(\"Mening ismim \" + ism)"
      ]
    },
    {
      "cell_type": "code",
      "execution_count": 12,
      "metadata": {
        "scrolled": true,
        "colab": {
          "base_uri": "https://localhost:8080/"
        },
        "id": "ALx4Hjme0Qds",
        "outputId": "f6ddb998-3c73-42e3-fe4c-b46f274f6314"
      },
      "outputs": [
        {
          "output_type": "stream",
          "name": "stdout",
          "text": [
            "FalonchiPistonchiev\n"
          ]
        }
      ],
      "source": [
        "ism = 'Falonchi'\n",
        "familiya = 'Pistonchiev'\n",
        "print(ism + familiya)"
      ]
    },
    {
      "cell_type": "markdown",
      "metadata": {
        "id": "ORI-b2zl0Qds"
      },
      "source": [
        "Yuqoridagi kodda ism va familiya orasiga bo'shliq belgisini qo'shmaganimiz uchun ikki matn qo'shilib yozildi. Buni to'g'rilash uchun, 3-qatorni quyidagicha yozamiz:"
      ]
    },
    {
      "cell_type": "code",
      "execution_count": null,
      "metadata": {
        "id": "1B0J5PjY0Qds",
        "outputId": "b900f31b-b045-4663-cc9f-48a1d42cc066"
      },
      "outputs": [
        {
          "name": "stdout",
          "output_type": "stream",
          "text": [
            "Ahad Qayum\n"
          ]
        }
      ],
      "source": [
        "ism = 'Falonchi'\n",
        "familiya = 'Pistonchiev'\n",
        "print(ism + ' ' + familiya) # ikki o'zgaruvchi orasiga bo'sh joy qo'shamiz"
      ]
    },
    {
      "cell_type": "markdown",
      "metadata": {
        "id": "tRvCcWqc0Qdt"
      },
      "source": [
        "## f-string"
      ]
    },
    {
      "cell_type": "markdown",
      "metadata": {
        "id": "mfnJED2j0Qdt"
      },
      "source": [
        "Ikki (va undan ko'p) matn ko'rinishidagi o'zgaruvchilarni birlashtirish uchun f-string usulidan  `f\"{matn1} {matn2}\"` ham foydalansak bo'ladi:"
      ]
    },
    {
      "cell_type": "code",
      "execution_count": 1,
      "metadata": {
        "id": "js_boTNE0Qdt",
        "outputId": "25062b7a-7f4f-4dc3-bd1f-9479ff6b3ee3",
        "colab": {
          "base_uri": "https://localhost:8080/"
        }
      },
      "outputs": [
        {
          "output_type": "stream",
          "name": "stdout",
          "text": [
            "Falonchi Pistonchiev\n"
          ]
        }
      ],
      "source": [
        "ism = \"Falonchi\"\n",
        "familiya = 'Pistonchiev'\n",
        "ism_sharif = f\"{ism} {familiya}\"\n",
        "print(ism_sharif)"
      ]
    },
    {
      "cell_type": "markdown",
      "metadata": {
        "id": "919eiWtL0Qdt"
      },
      "source": [
        "Bu usul yordamida uzun matnlarni ham yasash mumkin:"
      ]
    },
    {
      "cell_type": "code",
      "execution_count": 6,
      "metadata": {
        "id": "vRwlZYbC0Qdt",
        "outputId": "b6f97860-08d2-4068-9850-1e8063550834",
        "colab": {
          "base_uri": "https://localhost:8080/"
        }
      },
      "outputs": [
        {
          "output_type": "stream",
          "name": "stdout",
          "text": [
            "Salom, mening ismim Ahror, familiyam Turdiev!\n"
          ]
        }
      ],
      "source": [
        "ism = \"Ahror\"\n",
        "familiya = 'Turdiev'\n",
        "print(f\"Salom, mening ismim {ism}, familiyam {familiya}!\")"
      ]
    },
    {
      "cell_type": "markdown",
      "metadata": {
        "id": "dbODB4NX0Qdu"
      },
      "source": [
        "## Maxsus belgilar"
      ]
    },
    {
      "cell_type": "markdown",
      "metadata": {
        "id": "JMi9WJwZ0Qdu"
      },
      "source": [
        "Matnga bo'shliq qo'shish uchun `\\t` belgisidan, yangi qatordan boshlash uchun `\\n` belgisidan foydalanamiz:"
      ]
    },
    {
      "cell_type": "code",
      "execution_count": null,
      "metadata": {
        "id": "hGfaIQBs0Qdu",
        "outputId": "24a2269c-e930-4d84-f322-d9e84383476c"
      },
      "outputs": [
        {
          "name": "stdout",
          "output_type": "stream",
          "text": [
            "Hello World!\n",
            "Hello \tWorld!\n",
            "Hello \n",
            "World!\n"
          ]
        }
      ],
      "source": [
        "print('Hello World!')\n",
        "print('Hello \\tWorld!')\n",
        "print('Hello \\nWorld!')"
      ]
    },
    {
      "cell_type": "markdown",
      "metadata": {
        "id": "hM847D5-0Qdu"
      },
      "source": [
        "# STRING METODLARI"
      ]
    },
    {
      "cell_type": "markdown",
      "metadata": {
        "id": "zZ6Bzagn0Qdu"
      },
      "source": [
        "Pythonda string ustida amalga oshirish mumkin bo'lgan tayyor amallar to'plami mavjud. Bunday amallar to'plami **metodlar** deb ataladi."
      ]
    },
    {
      "cell_type": "markdown",
      "metadata": {
        "id": "-Dt8kpmu0Qdu"
      },
      "source": [
        "Metodlarni qo'llash uchun metod nomi matndan so'ng `.metod_nomi()`\n",
        " ko'rinishida yoziladi. Keling shunday metodlarning ba'zilari bilan tanishaylik."
      ]
    },
    {
      "cell_type": "markdown",
      "metadata": {
        "id": "GTmu2WjZ0Qdv"
      },
      "source": [
        "## `upper()` va `lower()` metodlari"
      ]
    },
    {
      "cell_type": "markdown",
      "metadata": {
        "id": "961cO7Vo0Qdv"
      },
      "source": [
        "`upper()` metodi matndagi har bir harfni katta harfga o'zgartiradi."
      ]
    },
    {
      "cell_type": "code",
      "execution_count": 2,
      "metadata": {
        "id": "8qxQMF_e0Qdv",
        "outputId": "84e26173-f2e5-4634-e588-4327f3fbf51e",
        "colab": {
          "base_uri": "https://localhost:8080/"
        }
      },
      "outputs": [
        {
          "output_type": "stream",
          "name": "stdout",
          "text": [
            "FALONCHI PISTONCHIEV\n"
          ]
        }
      ],
      "source": [
        "ism = 'Falonchi'\n",
        "familiya = 'Pistonchiev'\n",
        "ism_sharif = f\"{ism} {familiya}\"\n",
        "print(ism_sharif.upper())"
      ]
    },
    {
      "cell_type": "markdown",
      "metadata": {
        "id": "IcAtmBHu0Qdv"
      },
      "source": [
        "`lower()` metodi esa aksincha, har bir harfni kichik harfga o'zgartiradi."
      ]
    },
    {
      "cell_type": "code",
      "execution_count": 3,
      "metadata": {
        "id": "WRGb5IlU0Qdv",
        "outputId": "cb0e0d1a-f7f4-4b10-cbdc-372f7b558ab5",
        "colab": {
          "base_uri": "https://localhost:8080/"
        }
      },
      "outputs": [
        {
          "output_type": "stream",
          "name": "stdout",
          "text": [
            "falonchi pistonchiev\n"
          ]
        }
      ],
      "source": [
        "ism = 'Falonchi'\n",
        "familiya = 'Pistonchiev'\n",
        "ism_sharif = f\"{ism} {familiya}\"\n",
        "print(ism_sharif.lower())"
      ]
    },
    {
      "cell_type": "markdown",
      "metadata": {
        "id": "gET7pvkD0Qdv"
      },
      "source": [
        "## `title()` va `capitalize()` metodlari"
      ]
    },
    {
      "cell_type": "markdown",
      "metadata": {
        "id": "zuUYmRNU0Qdw"
      },
      "source": [
        "`title()` metodi matndagi har bir so'zning birinchi harfini katta harf bilan yozadi."
      ]
    },
    {
      "cell_type": "code",
      "execution_count": 4,
      "metadata": {
        "id": "seVuoXOS0Qdw",
        "outputId": "9f47a34f-be41-4695-94ae-5a7ff761d94b",
        "colab": {
          "base_uri": "https://localhost:8080/"
        }
      },
      "outputs": [
        {
          "output_type": "stream",
          "name": "stdout",
          "text": [
            "Falonchi Pistonchiev\n"
          ]
        }
      ],
      "source": [
        "ism_sharif = 'falonchi pistonchiev'\n",
        "print(ism_sharif.title())"
      ]
    },
    {
      "cell_type": "markdown",
      "metadata": {
        "id": "K18ixJ_10Qdw"
      },
      "source": [
        "`capitalize()` esa faqatgina eng birinchi so'zning birinchi harfini katta bilan yozadi."
      ]
    },
    {
      "cell_type": "code",
      "execution_count": null,
      "metadata": {
        "id": "e2Vj5iag0Qdw",
        "outputId": "c4ad3d85-ab82-48c6-aa83-f128a91bd77a"
      },
      "outputs": [
        {
          "name": "stdout",
          "output_type": "stream",
          "text": [
            "James bond\n"
          ]
        }
      ],
      "source": [
        "ism_sharif = 'james bond'\n",
        "print(ism_sharif.capitalize())"
      ]
    },
    {
      "cell_type": "markdown",
      "source": [
        "Metodlarni faqat o'zgaruvchilarga emas, balki to'g'ridan-to'g'ri matnga ham qo'llash mumkin (aslida o'zgaruvchi ham matnning (yoki boshqa ma'lumotning) manzili xolos)"
      ],
      "metadata": {
        "id": "gEDMhGykPKZ5"
      }
    },
    {
      "cell_type": "code",
      "source": [
        "print('falonchi pistonchiev'.upper())"
      ],
      "metadata": {
        "colab": {
          "base_uri": "https://localhost:8080/"
        },
        "id": "Y5e6tiFUPPIQ",
        "outputId": "5689d206-7822-4a24-f474-538e399579b1"
      },
      "execution_count": 7,
      "outputs": [
        {
          "output_type": "stream",
          "name": "stdout",
          "text": [
            "FALONCHI PISTONCHIEV\n"
          ]
        }
      ]
    },
    {
      "cell_type": "markdown",
      "source": [
        "## `len()` funksiyasi"
      ],
      "metadata": {
        "id": "IwVje1BJJCRG"
      }
    },
    {
      "cell_type": "markdown",
      "source": [
        "Python dasturlash tilida `len()` funksiyasi ob'ektning uzunligini yoki elementlar sonini aniqlash uchun ishlatiladi."
      ],
      "metadata": {
        "id": "aPENhBcsLEPW"
      }
    },
    {
      "cell_type": "markdown",
      "source": [
        "`len()` ning asosiy vazifasi:\n",
        "- String (matn) uzunligini topadi (ya'ni nechta belgi borligini).\n",
        "\n",
        "- List, tuple, dictionary, set kabi kolleksiyalarda nechta element borligini qaytaradi."
      ],
      "metadata": {
        "id": "f7fUnMP7N_5t"
      }
    },
    {
      "cell_type": "code",
      "source": [
        "matn = \"Salom\"\n",
        "print(len(matn))"
      ],
      "metadata": {
        "colab": {
          "base_uri": "https://localhost:8080/"
        },
        "id": "zc4lJUkkPXE0",
        "outputId": "7f20ddbf-b077-48f4-ffa8-09f12f031565"
      },
      "execution_count": 8,
      "outputs": [
        {
          "output_type": "stream",
          "name": "stdout",
          "text": [
            "5\n"
          ]
        }
      ]
    },
    {
      "cell_type": "markdown",
      "metadata": {
        "id": "D9AwZfzz0Qdw"
      },
      "source": [
        "## `strip()`, `rstrip()` va `lstrip()` metodlari"
      ]
    },
    {
      "cell_type": "markdown",
      "metadata": {
        "id": "-V3_jcij0Qdx"
      },
      "source": [
        "Bu metodlar matnning boshi va oxiridagi bo'sh joylarni olib tashlaydi.\n",
        "\n",
        "- `lstrip()` — matn boshidagi bo'shliqni,\n",
        "- `rstrip()` – matn oxiridagi bo'shliqni,\n",
        "- `strip()` — matn boshi va oxiridagi bo'shliqlarni olib tashlaydi"
      ]
    },
    {
      "cell_type": "code",
      "execution_count": null,
      "metadata": {
        "id": "ViftCh300Qdx",
        "outputId": "31dfa4d6-717b-429c-a0cc-cd577c39ebd5"
      },
      "outputs": [
        {
          "name": "stdout",
          "output_type": "stream",
          "text": [
            "Men olma      yaxshi ko'raman\n",
            "Men      olma yaxshi ko'raman\n",
            "Men olma yaxshi ko'raman\n",
            "Men      olma      yaxshi ko'raman\n"
          ]
        }
      ],
      "source": [
        "meva = \"     olma     \"\n",
        "print(\"Men \" + meva.lstrip() + \" yaxshi ko'raman\")\n",
        "print(\"Men \" + meva.rstrip() + \" yaxshi ko'raman\")\n",
        "print(\"Men \" + meva.strip() + \" yaxshi ko'raman\")\n",
        "print(\"Men \" + meva + \" yaxshi ko'raman\")"
      ]
    },
    {
      "cell_type": "markdown",
      "metadata": {
        "id": "Zd6IanGK0Qdx"
      },
      "source": [
        "Matnlar bilan ishlaydigan metodlar ko'p. Ularning ba'zilari bilan kelajakda yana tanishamiz, to'liq ro'yhatni esa quyidagi [sahifada](https://www.w3schools.com/python/python_ref_string.asp) ko'rishingiz mumkin."
      ]
    },
    {
      "cell_type": "markdown",
      "metadata": {
        "id": "sA_i9KrV0Qdx"
      },
      "source": [
        "> **Metodlar o'zgaruvchi ichidagi asl matnni o'zgartirmaydi!**"
      ]
    },
    {
      "cell_type": "markdown",
      "source": [
        "## Stringni bo‘lish (`split()`) va ajratish"
      ],
      "metadata": {
        "id": "mRXwf16rPoIc"
      }
    },
    {
      "cell_type": "code",
      "source": [
        "matn = \"salom dunyo\"\n",
        "sozlar = matn.split()\n",
        "print(sozlar)"
      ],
      "metadata": {
        "colab": {
          "base_uri": "https://localhost:8080/"
        },
        "id": "Ztw3psU3TOaL",
        "outputId": "b145474c-5c62-4276-e025-e0f48594f920"
      },
      "execution_count": 10,
      "outputs": [
        {
          "output_type": "stream",
          "name": "stdout",
          "text": [
            "['salom', 'dunyo']\n"
          ]
        }
      ]
    },
    {
      "cell_type": "markdown",
      "source": [
        "# Index [indeks]\n",
        "Stringda indekslar bilan ishlash"
      ],
      "metadata": {
        "id": "Urgp96oqTUg1"
      }
    },
    {
      "cell_type": "markdown",
      "source": [],
      "metadata": {
        "id": "NYkijTZiUBvG"
      }
    },
    {
      "cell_type": "markdown",
      "source": [
        "## **IN**, **NOT IN**\n",
        "String tekshiruvlari"
      ],
      "metadata": {
        "id": "05-9BHWzUDjy"
      }
    },
    {
      "cell_type": "code",
      "source": [
        "matn = \"python\"\n",
        "print(\"py\" in matn)\n",
        "print(\"java\" not in matn)"
      ],
      "metadata": {
        "colab": {
          "base_uri": "https://localhost:8080/"
        },
        "id": "CCnQ7g_vUw8d",
        "outputId": "ad0065af-db39-4af7-cc4e-29497ff48afa"
      },
      "execution_count": 11,
      "outputs": [
        {
          "output_type": "stream",
          "name": "stdout",
          "text": [
            "True\n",
            "True\n"
          ]
        }
      ]
    },
    {
      "cell_type": "markdown",
      "metadata": {
        "id": "RcUc9_wu0Qdx"
      },
      "source": [
        "# INPUT — FOYDALANUVCHI BILAN MULOQOT"
      ]
    },
    {
      "cell_type": "markdown",
      "metadata": {
        "id": "zWSzwjWN0Qdy"
      },
      "source": [
        "Shu paytgacha biz o'zgaruvchilarning qiymatini dasturning ichida berayotgan edik. Keling endi qiymatni o'zimiz emas, balki dastur foydalanuvchilariga kiritish imkonini beramiz."
      ]
    },
    {
      "cell_type": "markdown",
      "metadata": {
        "id": "I5u-i9Mt0Qdy"
      },
      "source": [
        "Buning uchun `input()` funktsyasidan foydalanamiz."
      ]
    },
    {
      "cell_type": "code",
      "execution_count": null,
      "metadata": {
        "id": "t-SppREc0Qdy",
        "outputId": "24649c66-48df-42dd-91c3-5253e7513aa2"
      },
      "outputs": [
        {
          "name": "stdout",
          "output_type": "stream",
          "text": [
            "Ismingiz nima?anvar\n",
            "Assalom alaykum, anvar\n"
          ]
        }
      ],
      "source": [
        "ism = input(\"Ismingiz nima?\")\n",
        "print(\"Assalom alaykum, \" + ism)"
      ]
    },
    {
      "cell_type": "markdown",
      "metadata": {
        "id": "Inp_Tse40Qdy"
      },
      "source": [
        "Yuqoridagi dastur, avval 1-qatorda foydalanuvchining ismini so'raydi. Foydalanuvchi ismini kiritib, Enter tugmasini bosgach, foydalanuvchi kiritgan matnism degan o'zgaruvchiga yuklanadi va dasturining 2-qatori bajaradi:"
      ]
    },
    {
      "cell_type": "markdown",
      "metadata": {
        "id": "AH_JFjbZ0Qdy"
      },
      "source": [
        "Keling yuqoridagi kod va uning natijasini chiroyliroq ko'rinishga keltiramiz."
      ]
    },
    {
      "cell_type": "code",
      "execution_count": null,
      "metadata": {
        "id": "N6Nu6Fj20Qdy"
      },
      "outputs": [],
      "source": [
        "ism = input(\"Ismingiz nima?\\n>>>\") # Foydalanuvchi ismini yangi qatordan kiritadi\n",
        "print(\"Assalom alaykum, \" + ism.title())"
      ]
    },
    {
      "cell_type": "markdown",
      "metadata": {
        "id": "OeByH_4U0Qdz"
      },
      "source": [
        "# AMALIYOT"
      ]
    },
    {
      "cell_type": "markdown",
      "metadata": {
        "id": "4rK-LEsc0Qdz"
      },
      "source": [
        "Quyidagi mashqlarni bajaring:\n",
        "- Quyidagi o'zgaruvchilarni yarating:\n",
        "   + `kocha=\"Bog'bon\"`\n",
        "   + `mahalla=\"Sog'bon\"`\n",
        "   + `tuman=\"Bodomzor\"`\n",
        "   + `viloyat=\"Samarqand\"`\n",
        "- Yuqoridagi o'zgaruvchilarni jamlab, quyidagi ko'rinishda konsolga chiqaring:\n",
        "   + `Bog'bon ko'chasi, Sog'bon mahallasi, Bodomzor tumani, Samarqand viloyati`\n",
        "- Yuqoridagi o'zgaruvchilarning (`kocha`, `mahalla`, `tuman`, `viloyat`) qiymatini foydalanuvchidan so'rang. Va avvalgi mashqni takrorlang.\n",
        "- Yuqoridagi matnni konsolga chiqarishda har bir verguldan keyin yangi qatordan yozing\n",
        "- Yuqoridagi matnni **f-string** yordamida, yangi, `manzil` deb nomlangan o'zgaruvchiga yuklang\n",
        "`manzilga` biz yuqorida o'rgangan `title()`, `upper()`, `lower()` , `capitalize()` metodlarini qo'llab ko'ring."
      ]
    },
    {
      "cell_type": "markdown",
      "metadata": {
        "id": "bO765GGi0Qdz"
      },
      "source": [
        "# JAVOBLAR\n"
      ]
    },
    {
      "cell_type": "code",
      "execution_count": null,
      "metadata": {
        "id": "QKle4eSH0Qdz"
      },
      "outputs": [],
      "source": [
        "kocha = \"Bog'bon\"\n",
        "mahalla = \"Sog'bon\"\n",
        "tuman = \"Bodomzor\"\n",
        "viloyat = \"Samarqand\""
      ]
    },
    {
      "cell_type": "code",
      "execution_count": null,
      "metadata": {
        "id": "hMZqef-m0Qdz",
        "outputId": "16b09603-f05c-4b2f-8a33-4476974b4e4e"
      },
      "outputs": [
        {
          "name": "stdout",
          "output_type": "stream",
          "text": [
            "Bog'bon ko'chasi, Sog'bon mahallasi, Bodomzor tumani, Samarqand viloyati\n"
          ]
        }
      ],
      "source": [
        "# Yuqoridagi o'zgaruvchilarni jamlab, quyidagi ko'rinishda konsolga chiqaring:\n",
        "print(kocha + \" ko'chasi, \" + mahalla + \" mahallasi, \" + \\\n",
        "      tuman + \" tumani, \" + viloyat + \" viloyati\")"
      ]
    },
    {
      "cell_type": "code",
      "execution_count": null,
      "metadata": {
        "id": "v7GEDNxR0Qdz",
        "outputId": "b732ab29-675c-48fb-d75b-2f4926cf2008"
      },
      "outputs": [
        {
          "name": "stdout",
          "output_type": "stream",
          "text": [
            "Iltimos, quyidagi ma'lumotlarni kiriting:\n",
            "Ko'changiz: beruniy\n",
            "Mahallangiz: bodomzor\n",
            "Tumaningiz: olmazor\n",
            "Viloyatingiz: toshkent\n",
            "beruniy ko'chasi, bodomzor mahallasi, olmazor tumani, toshkent viloyati\n"
          ]
        }
      ],
      "source": [
        "#Yuqoridagi o'zgaruvchilarning qiymatini foydalanuvchidan so'rang.\n",
        "print(\"Iltimos, quyidagi ma'lumotlarni kiriting:\")\n",
        "kocha = input(\"Ko'changiz: \")\n",
        "mahalla = input(\"Mahallangiz: \")\n",
        "tuman = input(\"Tumaningiz: \")\n",
        "viloyat = input(\"Viloyatingiz: \")\n",
        "print(kocha + \" ko'chasi, \" + mahalla + \" mahallasi, \" + \\\n",
        "      tuman + \" tumani, \" + viloyat + \" viloyati\")"
      ]
    },
    {
      "cell_type": "code",
      "execution_count": null,
      "metadata": {
        "id": "WY_o1iDc0Qd0",
        "outputId": "7278c3b8-ed3e-4a42-97cf-19885a632f40"
      },
      "outputs": [
        {
          "name": "stdout",
          "output_type": "stream",
          "text": [
            "beruniy ko'chasi,\n",
            "bodomzor mahallasi,\n",
            "olmazor tumani,\n",
            "toshkent viloyati\n"
          ]
        }
      ],
      "source": [
        "# Yuqoridagi matnni konsolga chiqarishda har bir verguldan keyin yangi qatorga yozing\n",
        "print(kocha + \" ko'chasi,\\n\" + mahalla + \" mahallasi,\\n\" + \\\n",
        "      tuman + \" tumani,\\n\" + viloyat + \" viloyati\")"
      ]
    },
    {
      "cell_type": "code",
      "execution_count": null,
      "metadata": {
        "id": "W7ub1IvS0Qd0",
        "outputId": "4c08408c-2ecb-48cc-b77a-7593abbf2c4a"
      },
      "outputs": [
        {
          "name": "stdout",
          "output_type": "stream",
          "text": [
            "beruniy ko'chasi, bodomzor mahallasi, olmazor tumani, toshkent viloyati\n"
          ]
        }
      ],
      "source": [
        "# Yuqoridagi o'zgaruvchilarni f-string yordamida, yangi manzil deb nomlangan o'zgaruvchiga yuklang\n",
        "manzil = f\"{kocha} ko'chasi, {mahalla} mahallasi, {tuman} tumani, {viloyat} viloyati\"\n",
        "print(manzil)"
      ]
    },
    {
      "cell_type": "code",
      "execution_count": null,
      "metadata": {
        "id": "prxGwLLG0Qd0",
        "outputId": "89ed04d5-4409-4767-99e8-177dc175da39"
      },
      "outputs": [
        {
          "name": "stdout",
          "output_type": "stream",
          "text": [
            "BERUNIY KO'CHASI, BODOMZOR MAHALLASI, OLMAZOR TUMANI, TOSHKENT VILOYATI\n",
            "beruniy ko'chasi, bodomzor mahallasi, olmazor tumani, toshkent viloyati\n",
            "Beruniy Ko'Chasi, Bodomzor Mahallasi, Olmazor Tumani, Toshkent Viloyati\n",
            "Beruniy ko'chasi, bodomzor mahallasi, olmazor tumani, toshkent viloyati\n"
          ]
        }
      ],
      "source": [
        "#manzil ga biz yuqorida o'rgangan metodlarni qo'llab ko'ring.\n",
        "print(manzil.upper())\n",
        "print(manzil.lower())\n",
        "print(manzil.title())\n",
        "print(manzil.capitalize())"
      ]
    }
  ],
  "metadata": {
    "language_info": {
      "name": "python"
    },
    "colab": {
      "provenance": [],
      "include_colab_link": true
    },
    "kernelspec": {
      "name": "python3",
      "display_name": "Python 3"
    }
  },
  "nbformat": 4,
  "nbformat_minor": 0
}